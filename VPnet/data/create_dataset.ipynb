{
 "cells": [
  {
   "cell_type": "code",
   "execution_count": null,
   "metadata": {
    "metadata": {}
   },
   "outputs": [],
   "source": [
    "import numpy as np\n",
    "import pickle\n",
    "import scanpy as sc\n",
    "import pandas as pd\n",
    "from anndata import AnnData\n",
    "from tqdm.notebook import tqdm\n",
    "from torch_geometric.data import Data\n",
    "import torch"
   ]
  },
  {
   "cell_type": "code",
   "execution_count": null,
   "metadata": {},
   "outputs": [],
   "source": [
    "adata = sc.read(\"data/sciplex_lincs.h5ad\")"
   ]
  },
  {
   "cell_type": "code",
   "execution_count": null,
   "metadata": {
    "metadata": {}
   },
   "outputs": [],
   "source": [
    "split_key = 'split'"
   ]
  },
  {
   "cell_type": "code",
   "execution_count": null,
   "metadata": {
    "metadata": {}
   },
   "outputs": [],
   "source": [
    "train_data = adata[adata.obs[split_key] == \"train\"]\n",
    "train_data = train_data[train_data.obs['dose'].astype(float)!=0.0]\n",
    "valid_data = adata[adata.obs[split_key] == \"valid\"]\n",
    "valid_data = valid_data[valid_data.obs['dose'].astype(float)!=0.0]\n",
    "test_data = adata[adata.obs[split_key] == \"test\"]\n",
    "test_data = test_data[test_data.obs['dose'].astype(float)!=0.0]"
   ]
  },
  {
   "cell_type": "code",
   "execution_count": null,
   "metadata": {
    "metadata": {}
   },
   "outputs": [],
   "source": [
    "drugs_names = np.array(adata.obs['condition'].values)\n",
    "drugs_names_unique = set(drugs_names)\n",
    "drugs_names_unique_sorted = np.array(sorted(drugs_names_unique))"
   ]
  },
  {
   "cell_type": "code",
   "execution_count": null,
   "metadata": {
    "metadata": {}
   },
   "outputs": [],
   "source": [
    "var_names = adata.var_names\n",
    "de_genes = adata.uns['rank_genes_groups_cov']"
   ]
  },
  {
   "cell_type": "code",
   "execution_count": null,
   "metadata": {
    "metadata": {}
   },
   "outputs": [],
   "source": [
    "def get_pert_idx(pert_category):\n",
    "    try:\n",
    "        pert_idx = [np.where(p == drugs_names_unique_sorted)[0][0]\n",
    "                for p in pert_category.split('*')\n",
    "                if p != 'control']\n",
    "    except:\n",
    "        print(pert_category)\n",
    "        pert_idx = None\n",
    "        \n",
    "    return pert_idx"
   ]
  },
  {
   "cell_type": "code",
   "execution_count": null,
   "metadata": {
    "metadata": {}
   },
   "outputs": [],
   "source": [
    "def create_cell_graph(X, y, de_idx, pert, dose, pert_idx=None):\n",
    "    feature_mat = torch.Tensor(X).T\n",
    "    if pert_idx is None:\n",
    "        pert_idx = [-1]\n",
    "    return Data(x=feature_mat, pert_idx=pert_idx,\n",
    "                y=torch.Tensor(y), de_idx=de_idx, dose=dose, pert=pert)"
   ]
  },
  {
   "cell_type": "code",
   "execution_count": null,
   "metadata": {
    "metadata": {}
   },
   "outputs": [],
   "source": [
    "def create_cell_graph_dataset(split_adata, pert_category, adata_all):\n",
    "    num_de_genes = 50        \n",
    "    adata_ = split_adata[split_adata.obs['condition'] == pert_category]\n",
    "    cell_graphs = []\n",
    "    for celltype in np.unique(adata_.obs['cell_type']):\n",
    "        adata_celline = adata_[adata_.obs['cell_type'] == celltype]\n",
    "\n",
    "        Xs = []\n",
    "        ys = []\n",
    "        dose_all = []\n",
    "        if pert_category != 'control':\n",
    "            pert_idx = get_pert_idx(pert_category)\n",
    "            cell_drug_dose_comb = adata_celline[0].obs['cov_drug'].values[0]\n",
    "            bool_de = var_names.isin(\n",
    "                np.array(de_genes[cell_drug_dose_comb])\n",
    "            )\n",
    "            indices = np.where(bool_de)[0]\n",
    "            if(indices.shape == 49):\n",
    "                import pdb;pdb.set_trace()\n",
    "            ctrl_index = adata_all.obs_names.get_indexer(adata_celline.obs['paired_control_index'].values)\n",
    "\n",
    "            dose_all.extend(adata_celline.obs['dose'].values)\n",
    "            Xs.extend(adata_all.X[ctrl_index])\n",
    "            ys.extend(adata_celline.X)\n",
    "            \n",
    "            for X, y, dose in zip(Xs, ys, dose_all):\n",
    "                cell_graphs.append(create_cell_graph(np.array(X).reshape(1, -1),\n",
    "                                    np.array(y).reshape(1, -1), indices, pert_category, dose, pert_idx))\n",
    "\n",
    "        else:\n",
    "            pert_idx = None\n",
    "            de_idx = [-1] * num_de_genes\n",
    "            dose_all.extend(adata_.obs['dose'].values)\n",
    "            Xs.extend(adata_.X)\n",
    "            ys.extend(adata_.X)\n",
    "            cell_graphs = []\n",
    "            for X, y, dose in zip(Xs, ys, dose_all):\n",
    "                cell_graphs.append(create_cell_graph(np.array(X).reshape(1, -1),\n",
    "                                    np.array(y).reshape(1, -1), de_idx, pert_category, dose, pert_idx))\n",
    "\n",
    "\n",
    "    return cell_graphs"
   ]
  },
  {
   "cell_type": "code",
   "execution_count": null,
   "metadata": {
    "metadata": {}
   },
   "outputs": [],
   "source": [
    "train_dataset_processed = {}\n",
    "for p in tqdm(train_data.obs['condition'].unique()):\n",
    "    train_dataset_processed[p] = create_cell_graph_dataset(train_data, p, adata)\n",
    "pickle.dump(train_dataset_processed, open('/data/data_pyg/sciplex_lincs/train_graph.pkl', \"wb\"))\n",
    "print(\"train_dataset Done!\")\n",
    "val_dataset_processed = {}\n",
    "for p in tqdm(valid_data.obs['condition'].unique()):\n",
    "    val_dataset_processed[p] = create_cell_graph_dataset(valid_data, p, adata)\n",
    "pickle.dump(val_dataset_processed, open('/data/data_pyg/sciplex_lincs/val_graph.pkl', \"wb\"))\n",
    "print(\"valid_dataset Done!\")\n",
    "test_dataset_processed = {}\n",
    "for p in tqdm(test_data.obs['condition'].unique()):\n",
    "    test_dataset_processed[p] = create_cell_graph_dataset(test_data, p, adata)\n",
    "pickle.dump(test_dataset_processed, open('/data/data_pyg/data_celltype/K562.pkl', \"wb\"))\n",
    "print(\"test_dataset Done!\")\n"
   ]
  }
 ],
 "metadata": {
  "kernelspec": {
   "display_name": "chemcpa",
   "language": "python",
   "name": "python3"
  },
  "language_info": {
   "codemirror_mode": {
    "name": "ipython",
    "version": 3
   },
   "file_extension": ".py",
   "mimetype": "text/x-python",
   "name": "python",
   "nbconvert_exporter": "python",
   "pygments_lexer": "ipython3",
   "version": "3.7.16"
  }
 },
 "nbformat": 4,
 "nbformat_minor": 2
}
